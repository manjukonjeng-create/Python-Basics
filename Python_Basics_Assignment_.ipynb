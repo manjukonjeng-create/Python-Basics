{
  "nbformat": 4,
  "nbformat_minor": 0,
  "metadata": {
    "colab": {
      "provenance": []
    },
    "kernelspec": {
      "name": "python3",
      "display_name": "Python 3"
    },
    "language_info": {
      "name": "python"
    }
  },
  "cells": [
    {
      "cell_type": "code",
      "execution_count": null,
      "metadata": {
        "id": "uWupW6vfMxjF"
      },
      "outputs": [],
      "source": []
    },
    {
      "cell_type": "markdown",
      "source": [
        "1. What is Python, and why is it popular?\n",
        "Ans-> Python is Python is a high-level programming language,easy to learn and versatile\n",
        "It is widely used in the industry, data analysis, artificial intelligence,and more.\n",
        "Python is open-source and has a large community.\n",
        "\n",
        "2. What is an interpreter in Python?\n",
        "Ans-> Interpreter in Python execute the code line by line, not like other compiled language.\n",
        "\n",
        "3. What are pre-defined keywords in Python?\n",
        "Ans-> Pre-defined keywords are the special words in python that holds reserved space like variable/identifier /function\n",
        "\n",
        "4. Can keywords be used as variable names?\n",
        "Ans-> No\n",
        "\n",
        "5. What is mutability in Python?\n",
        "Ans-> Multability in python means the changeable,objects whose value can be changed after they are created, like example, list is mutable\n",
        "\n",
        "6. Why are lists mutable, but tuples are immutable?\n",
        "Ans-> List are mutable beacuse the elements can be changed after it is created but a tuples are fixed and cannot be change after it is created\n",
        "\n",
        "7. What is the difference between “==” and “is” operators in Python?\n",
        "Ans-> \"==\" is a comparison operator, means comparing two values like 2==2 where 'is' operator is refering to same location,example a=1,2,3,4\n",
        "b=1,2,3,4\n",
        "print(a is b)\n",
        "c=a\n",
        "print(a is c)\n",
        "\n",
        "8. What are logical operators in Python?\n",
        "Ans-> There are two logical operators i.e. AND and OR operators\n",
        "In AND operator\n",
        "T and T are T\n",
        "T and F are F\n",
        "F and T are F\n",
        "F and F are F\n",
        "OR operators\n",
        "T OR T are T\n",
        "T OR F are T\n",
        "F OR T are T\n",
        "F OR F are F\n",
        "\n",
        "9. What is type casting in Python?\n",
        "Ans-> The process of converting from one data type of an object to another in python is called Typecasting. While executing using operators, there can be mismatch between the datatype so typecasting is required\n",
        "\n",
        "10. What is the difference between implicit and explicit type casting?\n",
        "Ans-> Implicit is automatically understand by python where explicit requires to convert datatypes using inbuilt function like int, str, float\n",
        "\n",
        "11. What is the purpose of conditional statements in Python?\n",
        "Ans-> Conditionals in Python are used to execute code based on the evaluation of one or more conditions.\n",
        "Python supports conditional statements such as if, elif (else if)\n",
        "\n",
        "12. How does the elif statement work?\n",
        "Ans-> The elif statement in python is used to eveluate multiple conditions. As example in a restaurant,\n",
        "1 pizza =50\n",
        "2 burger =40\n",
        "3 pasta = 60\n",
        "4 juice = 20\n",
        "if choice 1 \"pay 50\"\n",
        "elif choice 2 \"pay 40\"\n",
        "elif choice 3 \"pay 60\"\n",
        "\n",
        "13.  What is the difference between for and while loops?\n",
        "Ans-> the difference between for and while loop is, “for” loops are used for iterating over a sequence of elements, where “while” loops are used for executing code until a specified condition becomes False\n",
        "\n",
        "14. Describe a scenario where a while loop is more suitable than a for loop?\n",
        "Ans-> In an office secret santa guess game, here employees will try guess the secret santa, the game will keep going until one gets the correct guess, while loop is suitable here because it will keep going till someone finds the true guess"
      ],
      "metadata": {
        "id": "qmNgI95iVcex"
      }
    },
    {
      "cell_type": "code",
      "source": [
        "# Write a Python program to print \"Hello, World!\n",
        "print(\"Hello, World!\")"
      ],
      "metadata": {
        "colab": {
          "base_uri": "https://localhost:8080/"
        },
        "id": "qmEDP3cP7kJQ",
        "outputId": "ce07ce12-1ae4-4f0d-e88f-b46d9c1fc3ce"
      },
      "execution_count": 3,
      "outputs": [
        {
          "output_type": "stream",
          "name": "stdout",
          "text": [
            "Hello, World!\n"
          ]
        }
      ]
    },
    {
      "cell_type": "code",
      "source": [
        "# Write a Python program that displays your name and age\n",
        "print('Name is Konjengbam Manjushree')\n",
        "print('My age is 32')"
      ],
      "metadata": {
        "colab": {
          "base_uri": "https://localhost:8080/"
        },
        "id": "GgxZjGgu8jK1",
        "outputId": "5cbbb00a-8f43-4a2f-8059-cf705eca64a9"
      },
      "execution_count": 4,
      "outputs": [
        {
          "output_type": "stream",
          "name": "stdout",
          "text": [
            "Name is Konjengbam Manjushree\n",
            "My age is 32\n"
          ]
        }
      ]
    },
    {
      "cell_type": "code",
      "source": [
        "# Write code to print all the pre-defined keywords in Python using the keyword library\n",
        "print (\"Pre-defined keywords in python\")\n",
        "import keyword\n",
        "print (keyword.kwlist)"
      ],
      "metadata": {
        "colab": {
          "base_uri": "https://localhost:8080/"
        },
        "id": "Pqtzw8NN9fGi",
        "outputId": "50656c56-8d27-48cf-df39-0318fb0f9295"
      },
      "execution_count": 3,
      "outputs": [
        {
          "output_type": "stream",
          "name": "stdout",
          "text": [
            "Pre-defined keywords in python\n",
            "['False', 'None', 'True', 'and', 'as', 'assert', 'async', 'await', 'break', 'class', 'continue', 'def', 'del', 'elif', 'else', 'except', 'finally', 'for', 'from', 'global', 'if', 'import', 'in', 'is', 'lambda', 'nonlocal', 'not', 'or', 'pass', 'raise', 'return', 'try', 'while', 'with', 'yield']\n"
          ]
        }
      ]
    },
    {
      "cell_type": "code",
      "source": [
        "# Write a program that checks if a given word is a Python keyword.\n",
        "word1 = 'for'\n",
        "word2 = 'hello'\n",
        "word3 = 'def'\n",
        "print (keyword.iskeyword(word1))\n",
        "print (keyword.iskeyword(word2))\n",
        "print (keyword.iskeyword(word3))"
      ],
      "metadata": {
        "colab": {
          "base_uri": "https://localhost:8080/"
        },
        "id": "5pwBXxDWT2V_",
        "outputId": "84305c50-5d3c-4b7a-c033-368b21c7737b"
      },
      "execution_count": 4,
      "outputs": [
        {
          "output_type": "stream",
          "name": "stdout",
          "text": [
            "True\n",
            "False\n",
            "True\n"
          ]
        }
      ]
    },
    {
      "cell_type": "code",
      "source": [
        "# Create a list and tuple in Python and demonstrate how attempting to change an element works differently\n",
        "\n",
        "my_list = [1, 2, 3, 4, \"manjushree\"]\n",
        "my_list\n"
      ],
      "metadata": {
        "colab": {
          "base_uri": "https://localhost:8080/"
        },
        "id": "_XkHK5iAepxn",
        "outputId": "0e5e7f8c-676b-4b6d-eedc-46e3c38bbdac"
      },
      "execution_count": 12,
      "outputs": [
        {
          "output_type": "execute_result",
          "data": {
            "text/plain": [
              "[1, 2, 3, 4, 'manjushree']"
            ]
          },
          "metadata": {},
          "execution_count": 12
        }
      ]
    },
    {
      "cell_type": "code",
      "source": [
        "my_list[4]"
      ],
      "metadata": {
        "colab": {
          "base_uri": "https://localhost:8080/",
          "height": 35
        },
        "id": "C7h2U6SdlOIG",
        "outputId": "84e90567-ca6e-49dd-b21e-ff5bb358b584"
      },
      "execution_count": 13,
      "outputs": [
        {
          "output_type": "execute_result",
          "data": {
            "text/plain": [
              "'manjushree'"
            ],
            "application/vnd.google.colaboratory.intrinsic+json": {
              "type": "string"
            }
          },
          "metadata": {},
          "execution_count": 13
        }
      ]
    },
    {
      "cell_type": "code",
      "source": [
        "my_list[4] = \"konjengbam\"\n",
        "my_list"
      ],
      "metadata": {
        "colab": {
          "base_uri": "https://localhost:8080/"
        },
        "id": "nO7ITnowlbWu",
        "outputId": "439c8f8c-80c4-42f7-bb2b-5d91f464735b"
      },
      "execution_count": 14,
      "outputs": [
        {
          "output_type": "execute_result",
          "data": {
            "text/plain": [
              "[1, 2, 3, 4, 'konjengbam']"
            ]
          },
          "metadata": {},
          "execution_count": 14
        }
      ]
    },
    {
      "cell_type": "code",
      "source": [
        "my_tuple = (10, 20, 30, 40, 50)\n",
        "my_tuple"
      ],
      "metadata": {
        "colab": {
          "base_uri": "https://localhost:8080/"
        },
        "id": "CgyspfsXlmiP",
        "outputId": "02a06fad-48ae-4a58-d92d-904e44a2877d"
      },
      "execution_count": 16,
      "outputs": [
        {
          "output_type": "execute_result",
          "data": {
            "text/plain": [
              "(10, 20, 30, 40, 50)"
            ]
          },
          "metadata": {},
          "execution_count": 16
        }
      ]
    },
    {
      "cell_type": "code",
      "source": [
        "my_tuple[0] = 60\n",
        "my_tuple"
      ],
      "metadata": {
        "colab": {
          "base_uri": "https://localhost:8080/",
          "height": 159
        },
        "id": "sx7ZESx_nVoA",
        "outputId": "2c96ba1c-6648-49d5-e4c4-9c3a6bd9dd92"
      },
      "execution_count": 17,
      "outputs": [
        {
          "output_type": "error",
          "ename": "TypeError",
          "evalue": "'tuple' object does not support item assignment",
          "traceback": [
            "\u001b[0;31m---------------------------------------------------------------------------\u001b[0m",
            "\u001b[0;31mTypeError\u001b[0m                                 Traceback (most recent call last)",
            "\u001b[0;32m/tmp/ipython-input-308292982.py\u001b[0m in \u001b[0;36m<cell line: 0>\u001b[0;34m()\u001b[0m\n\u001b[0;32m----> 1\u001b[0;31m \u001b[0mmy_tuple\u001b[0m\u001b[0;34m[\u001b[0m\u001b[0;36m0\u001b[0m\u001b[0;34m]\u001b[0m \u001b[0;34m=\u001b[0m \u001b[0;36m60\u001b[0m\u001b[0;34m\u001b[0m\u001b[0;34m\u001b[0m\u001b[0m\n\u001b[0m\u001b[1;32m      2\u001b[0m \u001b[0mmy_tuple\u001b[0m\u001b[0;34m\u001b[0m\u001b[0;34m\u001b[0m\u001b[0m\n",
            "\u001b[0;31mTypeError\u001b[0m: 'tuple' object does not support item assignment"
          ]
        }
      ]
    },
    {
      "cell_type": "code",
      "source": [
        "# Write a program that performs basic arithmetic operations on two user-input numbers.\n",
        "num1 = 5\n",
        "num2 = 3\n",
        "num3 = 4.5\n",
        "add = num1 + num2\n",
        "print(add)\n",
        "sub = num1 - num2\n",
        "print(sub)\n",
        "mul = num1 * num2\n",
        "print(mul)\n",
        "div = num1 / num2\n",
        "print(div)"
      ],
      "metadata": {
        "colab": {
          "base_uri": "https://localhost:8080/"
        },
        "id": "J-0XtbW9o7ON",
        "outputId": "e2c37940-4c1c-4cdd-8bac-449458574002"
      },
      "execution_count": 19,
      "outputs": [
        {
          "output_type": "stream",
          "name": "stdout",
          "text": [
            "8\n",
            "2\n",
            "15\n",
            "1.6666666666666667\n"
          ]
        }
      ]
    },
    {
      "cell_type": "code",
      "source": [
        "# Write a program to demonstrate the use of logical operators.\n",
        "\n",
        "# AND condition\n",
        "print(True and True)\n",
        "print(True and False)\n",
        "print(False and True)\n",
        "print(False and False)\n",
        "\n",
        "# OR condition\n",
        "print(True or True)\n",
        "print(True or False)\n",
        "print(False or True)\n",
        "print(False or False)\n"
      ],
      "metadata": {
        "colab": {
          "base_uri": "https://localhost:8080/"
        },
        "id": "uOE6-zDxqtFO",
        "outputId": "389afde7-0852-47ff-dc30-87726892e672"
      },
      "execution_count": 20,
      "outputs": [
        {
          "output_type": "stream",
          "name": "stdout",
          "text": [
            "True\n",
            "False\n",
            "False\n",
            "False\n",
            "True\n",
            "True\n",
            "True\n",
            "False\n"
          ]
        }
      ]
    },
    {
      "cell_type": "code",
      "source": [
        "#  Write code to demonstrate type casting with list elements.\n",
        "\n",
        "my_list = [\"1\", 2, 3.14, True]\n",
        "print(f\"Original list: {my_list}\")\n",
        "print(f\"Original list types: {[type(item) for item in my_list]}\")\n"
      ],
      "metadata": {
        "colab": {
          "base_uri": "https://localhost:8080/"
        },
        "id": "tLIhpyLfzARZ",
        "outputId": "f86641f0-c9b5-4e4d-db2f-7b93991d238d"
      },
      "execution_count": 41,
      "outputs": [
        {
          "output_type": "stream",
          "name": "stdout",
          "text": [
            "Original list: ['1', 2, 3.14, True]\n",
            "Original list types: [<class 'str'>, <class 'int'>, <class 'float'>, <class 'bool'>]\n"
          ]
        }
      ]
    },
    {
      "cell_type": "code",
      "source": [
        "# Write a program that checks if a number is positive, negative, or zero.\n",
        "num = float(input(5))\n",
        "if num > 0:\n",
        "   print(\"Positive number\")\n",
        "elif num == 0:\n",
        "   print(\"Zero\")\n",
        "else:\n",
        "   print(\"Negative number\")"
      ],
      "metadata": {
        "colab": {
          "base_uri": "https://localhost:8080/",
          "height": 228
        },
        "id": "mR5erYQg0LMN",
        "outputId": "ae1ace90-d86d-4c53-b3b3-bc1cb4e0aff5"
      },
      "execution_count": 46,
      "outputs": [
        {
          "name": "stdout",
          "output_type": "stream",
          "text": [
            "56\n"
          ]
        },
        {
          "output_type": "error",
          "ename": "TypeError",
          "evalue": "'str' object is not callable",
          "traceback": [
            "\u001b[0;31m---------------------------------------------------------------------------\u001b[0m",
            "\u001b[0;31mTypeError\u001b[0m                                 Traceback (most recent call last)",
            "\u001b[0;32m/tmp/ipython-input-1664276259.py\u001b[0m in \u001b[0;36m<cell line: 0>\u001b[0;34m()\u001b[0m\n\u001b[1;32m      1\u001b[0m \u001b[0;31m# Write a program that checks if a number is positive, negative, or zero.\u001b[0m\u001b[0;34m\u001b[0m\u001b[0;34m\u001b[0m\u001b[0m\n\u001b[0;32m----> 2\u001b[0;31m \u001b[0mnum\u001b[0m \u001b[0;34m=\u001b[0m \u001b[0mfloat\u001b[0m\u001b[0;34m(\u001b[0m\u001b[0minput\u001b[0m\u001b[0;34m(\u001b[0m\u001b[0;36m5\u001b[0m\u001b[0;34m)\u001b[0m\u001b[0;34m)\u001b[0m\u001b[0;34m\u001b[0m\u001b[0;34m\u001b[0m\u001b[0m\n\u001b[0m\u001b[1;32m      3\u001b[0m \u001b[0;32mif\u001b[0m \u001b[0mnum\u001b[0m \u001b[0;34m>\u001b[0m \u001b[0;36m0\u001b[0m\u001b[0;34m:\u001b[0m\u001b[0;34m\u001b[0m\u001b[0;34m\u001b[0m\u001b[0m\n\u001b[1;32m      4\u001b[0m    \u001b[0mprint\u001b[0m\u001b[0;34m(\u001b[0m\u001b[0;34m\"Positive number\"\u001b[0m\u001b[0;34m)\u001b[0m\u001b[0;34m\u001b[0m\u001b[0;34m\u001b[0m\u001b[0m\n\u001b[1;32m      5\u001b[0m \u001b[0;32melif\u001b[0m \u001b[0mnum\u001b[0m \u001b[0;34m==\u001b[0m \u001b[0;36m0\u001b[0m\u001b[0;34m:\u001b[0m\u001b[0;34m\u001b[0m\u001b[0;34m\u001b[0m\u001b[0m\n",
            "\u001b[0;31mTypeError\u001b[0m: 'str' object is not callable"
          ]
        }
      ]
    },
    {
      "cell_type": "code",
      "source": [
        "# Write a for loop to print numbers from 1 to 10.\n",
        "for i in range(1, 11):\n",
        "  print(i)"
      ],
      "metadata": {
        "colab": {
          "base_uri": "https://localhost:8080/"
        },
        "id": "_Vz51xkY1YtS",
        "outputId": "9e973cfb-d036-4b0d-a6ac-a70b11d7bd14"
      },
      "execution_count": 47,
      "outputs": [
        {
          "output_type": "stream",
          "name": "stdout",
          "text": [
            "1\n",
            "2\n",
            "3\n",
            "4\n",
            "5\n",
            "6\n",
            "7\n",
            "8\n",
            "9\n",
            "10\n"
          ]
        }
      ]
    },
    {
      "cell_type": "code",
      "source": [
        "#  Write a Python program to find the sum of all even numbers between 1 and 50.\n",
        "sum_even = 0\n",
        "for i in range(2, 51, 2):\n",
        "  sum_even += i\n",
        "print(f\"The sum of even numbers between 1 and 50 is: {sum_even}\")"
      ],
      "metadata": {
        "colab": {
          "base_uri": "https://localhost:8080/"
        },
        "id": "yuPVYTkK14iu",
        "outputId": "878d95e5-29e5-4c92-ccb9-628b5fba8df8"
      },
      "execution_count": 48,
      "outputs": [
        {
          "output_type": "stream",
          "name": "stdout",
          "text": [
            "The sum of even numbers between 1 and 50 is: 650\n"
          ]
        }
      ]
    },
    {
      "cell_type": "code",
      "source": [
        "# Write a program to reverse a string using a while loop.\n",
        "input_string = input(\"Enter a string: \")\n",
        "reversed_string = \"\"\n",
        "index = len(input_string) - 1\n",
        "\n",
        "while index >= 0:\n",
        "    reversed_string += input_string[index]\n",
        "    index -= 1\n",
        "\n",
        "print(f\"Original string: {input_string}\")\n",
        "print(f\"Reversed string: {reversed_string}\")"
      ],
      "metadata": {
        "colab": {
          "base_uri": "https://localhost:8080/"
        },
        "id": "0ns3VLIk2CSB",
        "outputId": "cedf9e23-41ec-4ec9-fd9b-bec416e3eae0"
      },
      "execution_count": 49,
      "outputs": [
        {
          "output_type": "stream",
          "name": "stdout",
          "text": [
            "Enter a string: \"manjushree\"\n",
            "Original string: \"manjushree\"\n",
            "Reversed string: \"eerhsujnam\"\n"
          ]
        }
      ]
    },
    {
      "cell_type": "code",
      "source": [
        "# Write a program to reverse a string using a while loop.\n",
        "def reverse_string_while(s):\n",
        "  \"\"\"Reverses a string using a while loop.\"\"\"\n",
        "  reversed_s = \"\"\n",
        "  index = len(s) - 1\n",
        "  while index >= 0:\n",
        "    reversed_s += s[index]\n",
        "    index -= 1\n",
        "  return reversed_s\n",
        "\n",
        "input_string = \"Hello, World!\"\n",
        "reversed_string = reverse_string_while(input_string)\n",
        "print(f\"Original string: {input_string}\")\n",
        "print(f\"Reversed string: {reversed_string}\")\n"
      ],
      "metadata": {
        "colab": {
          "base_uri": "https://localhost:8080/"
        },
        "id": "36EAT9512cc0",
        "outputId": "e11fda59-bbc2-49a6-fd19-16da978682e8"
      },
      "execution_count": 50,
      "outputs": [
        {
          "output_type": "stream",
          "name": "stdout",
          "text": [
            "Original string: Hello, World!\n",
            "Reversed string: !dlroW ,olleH\n"
          ]
        }
      ]
    }
  ]
}